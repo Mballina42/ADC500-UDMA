{
 "cells": [
  {
   "cell_type": "code",
   "execution_count": 2,
   "metadata": {},
   "outputs": [],
   "source": [
    "# Para importar la libreria de udma por el momento tenes que buscarla donde tenes tu UDMA\n",
    "import sys\n",
    "sys.path.append('/home/geotoj/Documents/Gits/udma/src/') #linux en mi caso\n",
    "from udma import UDMA\n",
    "import numpy as np\n",
    "import time"
   ]
  },
  {
   "cell_type": "code",
   "execution_count": 3,
   "metadata": {},
   "outputs": [
    {
     "name": "stdout",
     "output_type": "stream",
     "text": [
      "conectado a 192.168.1.10:7\n"
     ]
    }
   ],
   "source": [
    "# Para crear una conexion\n",
    "\n",
    "if __name__ == '__main__':\n",
    "    try:\n",
    "        oudma = UDMA(\"192.168.1.10\",7) # ip: str, socket: int\n",
    "        oudma.connect()\n",
    "        print(\"conectado a 192.168.1.10:7\")\n",
    "    except:\n",
    "        print(\" no se pudo conectar\")  "
   ]
  },
  {
   "cell_type": "code",
   "execution_count": 7,
   "metadata": {},
   "outputs": [],
   "source": [
    "# constantes \n",
    "# Output REG\n",
    "CTR_ADC_OUT_REG = 0\n",
    "N_DECI_REG = 1\n",
    "\n",
    "#INPUT REG\n",
    "CTR_ADC_IN_REG = 0\n",
    "\n",
    "#set de instrucciones\n",
    "INIT_ADC = 128"
   ]
  },
  {
   "cell_type": "code",
   "execution_count": 5,
   "metadata": {},
   "outputs": [
    {
     "data": {
      "text/plain": [
       "[(1, 1), (0,)]"
      ]
     },
     "execution_count": 5,
     "metadata": {},
     "output_type": "execute_result"
    }
   ],
   "source": [
    "#leer registro solo se ingresa el valor del registro\n",
    "oudma.read_reg(CTR_ADC_IN_REG)"
   ]
  },
  {
   "cell_type": "code",
   "execution_count": 8,
   "metadata": {},
   "outputs": [
    {
     "data": {
      "text/plain": [
       "[(1, 0), 0]"
      ]
     },
     "execution_count": 8,
     "metadata": {},
     "output_type": "execute_result"
    }
   ],
   "source": [
    "# escribir registros\n",
    "oudma.write_reg(CTR_ADC_OUT_REG, INIT_ADC)"
   ]
  },
  {
   "cell_type": "code",
   "execution_count": 9,
   "metadata": {},
   "outputs": [
    {
     "data": {
      "text/plain": [
       "[(1, 0), 0]"
      ]
     },
     "execution_count": 9,
     "metadata": {},
     "output_type": "execute_result"
    }
   ],
   "source": [
    "# set decimator Number\n",
    "oudma.write_reg(N_DECI_REG, 1)"
   ]
  },
  {
   "cell_type": "code",
   "execution_count": 10,
   "metadata": {},
   "outputs": [],
   "source": [
    "# set read fifo\n",
    "valfifo = oudma.read_fifo(100)"
   ]
  },
  {
   "cell_type": "code",
   "execution_count": 12,
   "metadata": {},
   "outputs": [
    {
     "data": {
      "text/plain": [
       "0"
      ]
     },
     "execution_count": 12,
     "metadata": {},
     "output_type": "execute_result"
    }
   ],
   "source": [
    "#leer la variable\n",
    "valfifo[1]"
   ]
  }
 ],
 "metadata": {
  "kernelspec": {
   "display_name": "Python 3",
   "language": "python",
   "name": "python3"
  },
  "language_info": {
   "codemirror_mode": {
    "name": "ipython",
    "version": 3
   },
   "file_extension": ".py",
   "mimetype": "text/x-python",
   "name": "python",
   "nbconvert_exporter": "python",
   "pygments_lexer": "ipython3",
   "version": "3.10.6"
  },
  "orig_nbformat": 4
 },
 "nbformat": 4,
 "nbformat_minor": 2
}
